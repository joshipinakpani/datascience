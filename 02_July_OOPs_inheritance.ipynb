{
  "cells": [
    {
      "cell_type": "markdown",
      "id": "3c176eee",
      "metadata": {
        "id": "3c176eee"
      },
      "source": [
        "### 1. What is Inheritance in Object-Oriented Programming (OOP)?"
      ]
    },
    {
      "cell_type": "markdown",
      "id": "ee6532bd",
      "metadata": {
        "id": "ee6532bd"
      },
      "source": [
        "Inheritance in OOP is a mechanism where a new class (derived class) acquires the properties and behaviors (attributes and methods) of an existing class (base class). It promotes code reuse, modularity, and the creation of hierarchical relationships among classes."
      ]
    },
    {
      "cell_type": "markdown",
      "id": "bb00dfe0",
      "metadata": {
        "id": "bb00dfe0"
      },
      "source": [
        "### 2. Single Inheritance vs Multiple Inheritance"
      ]
    },
    {
      "cell_type": "markdown",
      "id": "56a73537",
      "metadata": {
        "id": "56a73537"
      },
      "source": [
        "- **Single Inheritance:** A derived class inherits from a single base class.\n",
        "- **Multiple Inheritance:** A derived class inherits from more than one base class.\n",
        "\n",
        "**Advantages:**\n",
        "- Single inheritance is simpler and easier to manage.\n",
        "- Multiple inheritance promotes reusability but can lead to complexity (e.g., diamond problem)."
      ]
    },
    {
      "cell_type": "markdown",
      "id": "44cb7376",
      "metadata": {
        "id": "44cb7376"
      },
      "source": [
        "### 3. Base Class and Derived Class"
      ]
    },
    {
      "cell_type": "markdown",
      "id": "07b77bb9",
      "metadata": {
        "id": "07b77bb9"
      },
      "source": [
        "- **Base Class:** The class whose properties are inherited.\n",
        "- **Derived Class:** The class that inherits properties from the base class."
      ]
    },
    {
      "cell_type": "markdown",
      "id": "5dc49e07",
      "metadata": {
        "id": "5dc49e07"
      },
      "source": [
        "### 4. Significance of the Protected Access Modifier"
      ]
    },
    {
      "cell_type": "markdown",
      "id": "b0d0b62a",
      "metadata": {
        "id": "b0d0b62a"
      },
      "source": [
        "- **Protected (`_variable`)**: Accessible within the class and by subclasses.\n",
        "- **Private (`__variable`)**: Only accessible within the class.\n",
        "- **Public**: Accessible from anywhere."
      ]
    },
    {
      "cell_type": "markdown",
      "id": "ce52a15a",
      "metadata": {
        "id": "ce52a15a"
      },
      "source": [
        "### 5. Purpose of the `super` Keyword"
      ]
    },
    {
      "cell_type": "markdown",
      "id": "b1c32acb",
      "metadata": {
        "id": "b1c32acb"
      },
      "source": [
        "The `super` keyword is used to call methods or constructors from the parent class in a child class.\n",
        "\n",
        "**Example:**"
      ]
    },
    {
      "cell_type": "code",
      "execution_count": 1,
      "id": "d909b605",
      "metadata": {
        "id": "d909b605",
        "outputId": "d80e1a3c-5361-4a5f-badc-0533fe8f15a0",
        "colab": {
          "base_uri": "https://localhost:8080/"
        }
      },
      "outputs": [
        {
          "output_type": "stream",
          "name": "stdout",
          "text": [
            "Parent Name: John\n",
            "Child Age: 12\n"
          ]
        }
      ],
      "source": [
        "\n",
        "class Parent:\n",
        "    def __init__(self, name):\n",
        "        self.name = name\n",
        "\n",
        "    def display(self):\n",
        "        print(f\"Parent Name: {self.name}\")\n",
        "\n",
        "class Child(Parent):\n",
        "    def __init__(self, name, age):\n",
        "        super().__init__(name)\n",
        "        self.age = age\n",
        "\n",
        "    def display(self):\n",
        "        super().display()\n",
        "        print(f\"Child Age: {self.age}\")\n",
        "\n",
        "# Example\n",
        "child = Child(\"John\", 12)\n",
        "child.display()\n"
      ]
    },
    {
      "cell_type": "markdown",
      "id": "d992ba66",
      "metadata": {
        "id": "d992ba66"
      },
      "source": [
        "### 6. Vehicle and Car Classes"
      ]
    },
    {
      "cell_type": "code",
      "execution_count": 2,
      "id": "5bb20f91",
      "metadata": {
        "id": "5bb20f91",
        "outputId": "619f6631-9784-4739-9c03-63c0035fc97f",
        "colab": {
          "base_uri": "https://localhost:8080/"
        }
      },
      "outputs": [
        {
          "output_type": "stream",
          "name": "stdout",
          "text": [
            "Make: Toyota, Model: Corolla, Year: 2020\n",
            "Fuel Type: Petrol\n"
          ]
        }
      ],
      "source": [
        "\n",
        "class Vehicle:\n",
        "    def __init__(self, make, model, year):\n",
        "        self.make = make\n",
        "        self.model = model\n",
        "        self.year = year\n",
        "\n",
        "    def display_info(self):\n",
        "        print(f\"Make: {self.make}, Model: {self.model}, Year: {self.year}\")\n",
        "\n",
        "class Car(Vehicle):\n",
        "    def __init__(self, make, model, year, fuel_type):\n",
        "        super().__init__(make, model, year)\n",
        "        self.fuel_type = fuel_type\n",
        "\n",
        "    def display_info(self):\n",
        "        super().display_info()\n",
        "        print(f\"Fuel Type: {self.fuel_type}\")\n",
        "\n",
        "# Example\n",
        "car = Car(\"Toyota\", \"Corolla\", 2020, \"Petrol\")\n",
        "car.display_info()\n"
      ]
    },
    {
      "cell_type": "markdown",
      "id": "103d9dad",
      "metadata": {
        "id": "103d9dad"
      },
      "source": [
        "### 7. Employee, Manager, Developer Classes"
      ]
    },
    {
      "cell_type": "code",
      "execution_count": 3,
      "id": "c9573857",
      "metadata": {
        "id": "c9573857",
        "outputId": "1a4355ee-dad8-43b6-d168-da9a1a388f8e",
        "colab": {
          "base_uri": "https://localhost:8080/"
        }
      },
      "outputs": [
        {
          "output_type": "stream",
          "name": "stdout",
          "text": [
            "Name: Alice, Salary: $80000\n",
            "Department: HR\n",
            "Name: Bob, Salary: $90000\n",
            "Programming Language: Python\n"
          ]
        }
      ],
      "source": [
        "\n",
        "class Employee:\n",
        "    def __init__(self, name, salary):\n",
        "        self.name = name\n",
        "        self.salary = salary\n",
        "\n",
        "    def display_info(self):\n",
        "        print(f\"Name: {self.name}, Salary: ${self.salary}\")\n",
        "\n",
        "class Manager(Employee):\n",
        "    def __init__(self, name, salary, department):\n",
        "        super().__init__(name, salary)\n",
        "        self.department = department\n",
        "\n",
        "    def display_info(self):\n",
        "        super().display_info()\n",
        "        print(f\"Department: {self.department}\")\n",
        "\n",
        "class Developer(Employee):\n",
        "    def __init__(self, name, salary, programming_language):\n",
        "        super().__init__(name, salary)\n",
        "        self.programming_language = programming_language\n",
        "\n",
        "    def display_info(self):\n",
        "        super().display_info()\n",
        "        print(f\"Programming Language: {self.programming_language}\")\n",
        "\n",
        "# Example\n",
        "manager = Manager(\"Alice\", 80000, \"HR\")\n",
        "developer = Developer(\"Bob\", 90000, \"Python\")\n",
        "manager.display_info()\n",
        "developer.display_info()\n"
      ]
    },
    {
      "cell_type": "markdown",
      "id": "3bfb1f65",
      "metadata": {
        "id": "3bfb1f65"
      },
      "source": [
        "### 8. Shape, Rectangle, Circle Classes"
      ]
    },
    {
      "cell_type": "code",
      "execution_count": 4,
      "id": "03da77b9",
      "metadata": {
        "id": "03da77b9",
        "outputId": "b2221f1a-df8c-4320-dc5a-03b2a92f6e36",
        "colab": {
          "base_uri": "https://localhost:8080/"
        }
      },
      "outputs": [
        {
          "output_type": "stream",
          "name": "stdout",
          "text": [
            "Colour: Red, Border Width: 2\n",
            "Length: 5, Width: 3\n",
            "Colour: Blue, Border Width: 1\n",
            "Radius: 4\n"
          ]
        }
      ],
      "source": [
        "\n",
        "class Shape:\n",
        "    def __init__(self, colour, border_width):\n",
        "        self.colour = colour\n",
        "        self.border_width = border_width\n",
        "\n",
        "    def display(self):\n",
        "        print(f\"Colour: {self.colour}, Border Width: {self.border_width}\")\n",
        "\n",
        "class Rectangle(Shape):\n",
        "    def __init__(self, colour, border_width, length, width):\n",
        "        super().__init__(colour, border_width)\n",
        "        self.length = length\n",
        "        self.width = width\n",
        "\n",
        "    def display(self):\n",
        "        super().display()\n",
        "        print(f\"Length: {self.length}, Width: {self.width}\")\n",
        "\n",
        "class Circle(Shape):\n",
        "    def __init__(self, colour, border_width, radius):\n",
        "        super().__init__(colour, border_width)\n",
        "        self.radius = radius\n",
        "\n",
        "    def display(self):\n",
        "        super().display()\n",
        "        print(f\"Radius: {self.radius}\")\n",
        "\n",
        "# Example\n",
        "rect = Rectangle(\"Red\", 2, 5, 3)\n",
        "circle = Circle(\"Blue\", 1, 4)\n",
        "rect.display()\n",
        "circle.display()\n"
      ]
    },
    {
      "cell_type": "markdown",
      "id": "584d38e7",
      "metadata": {
        "id": "584d38e7"
      },
      "source": [
        "### 9. Device, Phone, Tablet Classes"
      ]
    },
    {
      "cell_type": "code",
      "execution_count": 5,
      "id": "a1cdee48",
      "metadata": {
        "id": "a1cdee48",
        "outputId": "e5b1326e-3e3e-4480-9695-1cc25ca13433",
        "colab": {
          "base_uri": "https://localhost:8080/"
        }
      },
      "outputs": [
        {
          "output_type": "stream",
          "name": "stdout",
          "text": [
            "Brand: Apple, Model: iPhone 13\n",
            "Screen Size: 6.1 inches\n",
            "Brand: Samsung, Model: Galaxy Tab\n",
            "Battery Capacity: 7040 mAh\n"
          ]
        }
      ],
      "source": [
        "\n",
        "class Device:\n",
        "    def __init__(self, brand, model):\n",
        "        self.brand = brand\n",
        "        self.model = model\n",
        "\n",
        "    def display_info(self):\n",
        "        print(f\"Brand: {self.brand}, Model: {self.model}\")\n",
        "\n",
        "class Phone(Device):\n",
        "    def __init__(self, brand, model, screen_size):\n",
        "        super().__init__(brand, model)\n",
        "        self.screen_size = screen_size\n",
        "\n",
        "    def display_info(self):\n",
        "        super().display_info()\n",
        "        print(f\"Screen Size: {self.screen_size} inches\")\n",
        "\n",
        "class Tablet(Device):\n",
        "    def __init__(self, brand, model, battery_capacity):\n",
        "        super().__init__(brand, model)\n",
        "        self.battery_capacity = battery_capacity\n",
        "\n",
        "    def display_info(self):\n",
        "        super().display_info()\n",
        "        print(f\"Battery Capacity: {self.battery_capacity} mAh\")\n",
        "\n",
        "# Example\n",
        "phone = Phone(\"Apple\", \"iPhone 13\", 6.1)\n",
        "tablet = Tablet(\"Samsung\", \"Galaxy Tab\", 7040)\n",
        "phone.display_info()\n",
        "tablet.display_info()\n"
      ]
    },
    {
      "cell_type": "markdown",
      "id": "53d7a04f",
      "metadata": {
        "id": "53d7a04f"
      },
      "source": [
        "### 10. BankAccount, SavingsAccount, CheckingAccount Classes"
      ]
    },
    {
      "cell_type": "code",
      "execution_count": 6,
      "id": "384286b2",
      "metadata": {
        "id": "384286b2",
        "outputId": "40975596-4f25-4688-9639-9d6e4930af43",
        "colab": {
          "base_uri": "https://localhost:8080/"
        }
      },
      "outputs": [
        {
          "output_type": "stream",
          "name": "stdout",
          "text": [
            "Account Number: SA123, Balance: $10000\n",
            "Interest Earned: $500.0\n",
            "Account Number: CA456, Balance: $5000\n",
            "Fee of $50 deducted. New Balance: $4950\n"
          ]
        }
      ],
      "source": [
        "\n",
        "class BankAccount:\n",
        "    def __init__(self, account_number, balance):\n",
        "        self.account_number = account_number\n",
        "        self.balance = balance\n",
        "\n",
        "    def display_info(self):\n",
        "        print(f\"Account Number: {self.account_number}, Balance: ${self.balance}\")\n",
        "\n",
        "class SavingsAccount(BankAccount):\n",
        "    def __init__(self, account_number, balance, interest_rate):\n",
        "        super().__init__(account_number, balance)\n",
        "        self.interest_rate = interest_rate\n",
        "\n",
        "    def calculate_interest(self):\n",
        "        interest = self.balance * self.interest_rate / 100\n",
        "        print(f\"Interest Earned: ${interest}\")\n",
        "\n",
        "class CheckingAccount(BankAccount):\n",
        "    def __init__(self, account_number, balance, fee):\n",
        "        super().__init__(account_number, balance)\n",
        "        self.fee = fee\n",
        "\n",
        "    def deduct_fees(self):\n",
        "        self.balance -= self.fee\n",
        "        print(f\"Fee of ${self.fee} deducted. New Balance: ${self.balance}\")\n",
        "\n",
        "# Example\n",
        "savings = SavingsAccount(\"SA123\", 10000, 5)\n",
        "checking = CheckingAccount(\"CA456\", 5000, 50)\n",
        "savings.display_info()\n",
        "savings.calculate_interest()\n",
        "checking.display_info()\n",
        "checking.deduct_fees()\n"
      ]
    },
    {
      "cell_type": "code",
      "source": [],
      "metadata": {
        "id": "2FKRe7-kPvAd"
      },
      "id": "2FKRe7-kPvAd",
      "execution_count": null,
      "outputs": []
    }
  ],
  "metadata": {
    "colab": {
      "provenance": []
    },
    "language_info": {
      "name": "python"
    },
    "kernelspec": {
      "name": "python3",
      "display_name": "Python 3"
    }
  },
  "nbformat": 4,
  "nbformat_minor": 5
}