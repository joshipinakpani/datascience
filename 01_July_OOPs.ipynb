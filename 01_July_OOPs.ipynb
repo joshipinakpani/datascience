{
  "cells": [
    {
      "cell_type": "markdown",
      "id": "7345473d",
      "metadata": {
        "id": "7345473d"
      },
      "source": [
        "### 1. What is the primary goal of Object-Oriented Programming (OOP)?"
      ]
    },
    {
      "cell_type": "markdown",
      "id": "8b1c4f2c",
      "metadata": {
        "id": "8b1c4f2c"
      },
      "source": [
        "The primary goal of Object-Oriented Programming (OOP) is to design software using objects, which are instances of classes. OOP helps in organizing code to model real-world entities, making the code more modular, reusable, scalable, and easier to maintain."
      ]
    },
    {
      "cell_type": "markdown",
      "id": "f7fea892",
      "metadata": {
        "id": "f7fea892"
      },
      "source": [
        "### 2. What is an object in Python?"
      ]
    },
    {
      "cell_type": "markdown",
      "id": "1e3fa766",
      "metadata": {
        "id": "1e3fa766"
      },
      "source": [
        "An object in Python is an instance of a class. It is a collection of data (attributes) and behaviors (methods) that represent real-world entities."
      ]
    },
    {
      "cell_type": "markdown",
      "id": "dc436cf7",
      "metadata": {
        "id": "dc436cf7"
      },
      "source": [
        "### 3. What is a class in Python?"
      ]
    },
    {
      "cell_type": "markdown",
      "id": "6d913774",
      "metadata": {
        "id": "6d913774"
      },
      "source": [
        "A class in Python is a blueprint for creating objects. It defines attributes and methods that describe the behavior and properties of the objects created from the class."
      ]
    },
    {
      "cell_type": "markdown",
      "id": "5c0ba85f",
      "metadata": {
        "id": "5c0ba85f"
      },
      "source": [
        "### 4. What are attributes and methods in a class?"
      ]
    },
    {
      "cell_type": "markdown",
      "id": "7e21a852",
      "metadata": {
        "id": "7e21a852"
      },
      "source": [
        "- **Attributes:** Variables that store data related to an object.\n",
        "- **Methods:** Functions defined within a class that describe the behaviors of the objects."
      ]
    },
    {
      "cell_type": "markdown",
      "id": "e0fb19cc",
      "metadata": {
        "id": "e0fb19cc"
      },
      "source": [
        "### 5. What is the difference between class variables and instance variables in Python?"
      ]
    },
    {
      "cell_type": "markdown",
      "id": "01d48b43",
      "metadata": {
        "id": "01d48b43"
      },
      "source": [
        "- **Class Variables:** Shared across all instances of a class. Defined within the class but outside any methods.\n",
        "- **Instance Variables:** Unique to each object. Defined inside the constructor using `self`."
      ]
    },
    {
      "cell_type": "markdown",
      "id": "d2b03f18",
      "metadata": {
        "id": "d2b03f18"
      },
      "source": [
        "### 6. What is the purpose of the self parameter in Python class methods?"
      ]
    },
    {
      "cell_type": "markdown",
      "id": "4010c12d",
      "metadata": {
        "id": "4010c12d"
      },
      "source": [
        "The `self` parameter refers to the current instance of the class. It allows access to the object's attributes and methods."
      ]
    },
    {
      "cell_type": "markdown",
      "id": "5da98817",
      "metadata": {
        "id": "5da98817"
      },
      "source": [
        "### 7. Book Class Implementation"
      ]
    },
    {
      "cell_type": "code",
      "execution_count": 1,
      "id": "bde87053",
      "metadata": {
        "colab": {
          "base_uri": "https://localhost:8080/"
        },
        "id": "bde87053",
        "outputId": "17b146e7-0b69-47c6-a5a2-3f2acfaac50a"
      },
      "outputs": [
        {
          "output_type": "stream",
          "name": "stdout",
          "text": [
            "Title: 1984, Author: George Orwell, ISBN: 1234567890, Year: 1949, Available Copies: 5\n",
            "Book checked out successfully.\n",
            "Title: 1984, Author: George Orwell, ISBN: 1234567890, Year: 1949, Available Copies: 4\n"
          ]
        }
      ],
      "source": [
        "\n",
        "class Book:\n",
        "    def __init__(self, title, author, isbn, publication_year, available_copies):\n",
        "        self.title = title\n",
        "        self.author = author\n",
        "        self.isbn = isbn\n",
        "        self.publication_year = publication_year\n",
        "        self.available_copies = available_copies\n",
        "\n",
        "    def check_out(self):\n",
        "        if self.available_copies > 0:\n",
        "            self.available_copies -= 1\n",
        "            print(\"Book checked out successfully.\")\n",
        "        else:\n",
        "            print(\"No copies available.\")\n",
        "\n",
        "    def return_book(self):\n",
        "        self.available_copies += 1\n",
        "        print(\"Book returned successfully.\")\n",
        "\n",
        "    def display_book_info(self):\n",
        "        print(f\"Title: {self.title}, Author: {self.author}, ISBN: {self.isbn}, \"\n",
        "              f\"Year: {self.publication_year}, Available Copies: {self.available_copies}\")\n",
        "\n",
        "# Example\n",
        "book1 = Book(\"1984\", \"George Orwell\", \"1234567890\", 1949, 5)\n",
        "book1.display_book_info()\n",
        "book1.check_out()\n",
        "book1.display_book_info()\n"
      ]
    },
    {
      "cell_type": "markdown",
      "id": "eb2205aa",
      "metadata": {
        "id": "eb2205aa"
      },
      "source": [
        "### 8. Ticket Class Implementation"
      ]
    },
    {
      "cell_type": "code",
      "execution_count": 2,
      "id": "638df950",
      "metadata": {
        "colab": {
          "base_uri": "https://localhost:8080/"
        },
        "id": "638df950",
        "outputId": "c4c83a23-4a0e-4a78-b7e8-bf27d15e05f6"
      },
      "outputs": [
        {
          "output_type": "stream",
          "name": "stdout",
          "text": [
            "Ticket ID: T123, Event: Concert, Date: 2025-05-15, Venue: Stadium, Seat: A12, Price: $150.0, Reserved: No\n",
            "Ticket reserved successfully.\n",
            "Ticket ID: T123, Event: Concert, Date: 2025-05-15, Venue: Stadium, Seat: A12, Price: $150.0, Reserved: Yes\n"
          ]
        }
      ],
      "source": [
        "\n",
        "class Ticket:\n",
        "    def __init__(self, ticket_id, event_name, event_date, venue, seat_number, price):\n",
        "        self.ticket_id = ticket_id\n",
        "        self.event_name = event_name\n",
        "        self.event_date = event_date\n",
        "        self.venue = venue\n",
        "        self.seat_number = seat_number\n",
        "        self.price = price\n",
        "        self.is_reserved = False\n",
        "\n",
        "    def reserve_ticket(self):\n",
        "        if not self.is_reserved:\n",
        "            self.is_reserved = True\n",
        "            print(\"Ticket reserved successfully.\")\n",
        "        else:\n",
        "            print(\"Ticket is already reserved.\")\n",
        "\n",
        "    def cancel_reservation(self):\n",
        "        if self.is_reserved:\n",
        "            self.is_reserved = False\n",
        "            print(\"Reservation canceled successfully.\")\n",
        "        else:\n",
        "            print(\"No reservation to cancel.\")\n",
        "\n",
        "    def display_ticket_info(self):\n",
        "        print(f\"Ticket ID: {self.ticket_id}, Event: {self.event_name}, Date: {self.event_date}, \"\n",
        "              f\"Venue: {self.venue}, Seat: {self.seat_number}, Price: ${self.price}, \"\n",
        "              f\"Reserved: {'Yes' if self.is_reserved else 'No'}\")\n",
        "\n",
        "# Example\n",
        "ticket1 = Ticket(\"T123\", \"Concert\", \"2025-05-15\", \"Stadium\", \"A12\", 150.0)\n",
        "ticket1.display_ticket_info()\n",
        "ticket1.reserve_ticket()\n",
        "ticket1.display_ticket_info()\n"
      ]
    },
    {
      "cell_type": "markdown",
      "id": "287739e7",
      "metadata": {
        "id": "287739e7"
      },
      "source": [
        "### 9. ShoppingCart Class Implementation"
      ]
    },
    {
      "cell_type": "code",
      "execution_count": 3,
      "id": "cb8ef3e1",
      "metadata": {
        "colab": {
          "base_uri": "https://localhost:8080/"
        },
        "id": "cb8ef3e1",
        "outputId": "b23f7887-9b0b-4021-9715-c5dfaae87260"
      },
      "outputs": [
        {
          "output_type": "stream",
          "name": "stdout",
          "text": [
            "Added Laptop to the cart.\n",
            "Items in your cart: ['Laptop']\n",
            "Removed Laptop from the cart.\n",
            "Your cart is empty.\n"
          ]
        }
      ],
      "source": [
        "\n",
        "class ShoppingCart:\n",
        "    def __init__(self):\n",
        "        self.items = []\n",
        "\n",
        "    def add_item(self, item):\n",
        "        self.items.append(item)\n",
        "        print(f\"Added {item} to the cart.\")\n",
        "\n",
        "    def remove_item(self, item):\n",
        "        if item in self.items:\n",
        "            self.items.remove(item)\n",
        "            print(f\"Removed {item} from the cart.\")\n",
        "        else:\n",
        "            print(f\"{item} not found in the cart.\")\n",
        "\n",
        "    def view_cart(self):\n",
        "        if self.items:\n",
        "            print(\"Items in your cart:\", self.items)\n",
        "        else:\n",
        "            print(\"Your cart is empty.\")\n",
        "\n",
        "    def clear_cart(self):\n",
        "        self.items = []\n",
        "        print(\"Shopping cart cleared.\")\n",
        "\n",
        "# Example\n",
        "cart = ShoppingCart()\n",
        "cart.add_item(\"Laptop\")\n",
        "cart.view_cart()\n",
        "cart.remove_item(\"Laptop\")\n",
        "cart.view_cart()\n"
      ]
    },
    {
      "cell_type": "markdown",
      "id": "44534976",
      "metadata": {
        "id": "44534976"
      },
      "source": [
        "### 10. Student Class Implementation"
      ]
    },
    {
      "cell_type": "code",
      "execution_count": 4,
      "id": "58160ece",
      "metadata": {
        "colab": {
          "base_uri": "https://localhost:8080/"
        },
        "id": "58160ece",
        "outputId": "50592a6e-d531-4292-f858-fa8442f5ec95"
      },
      "outputs": [
        {
          "output_type": "stream",
          "name": "stdout",
          "text": [
            "Attendance updated for 2025-01-01: Present\n",
            "Attendance updated for 2025-01-02: Absent\n",
            "Attendance Record: {'2025-01-01': 'Present', '2025-01-02': 'Absent'}\n",
            "Average Attendance: 50.0 %\n"
          ]
        }
      ],
      "source": [
        "\n",
        "class Student:\n",
        "    def __init__(self, name, age, grade, student_id):\n",
        "        self.name = name\n",
        "        self.age = age\n",
        "        self.grade = grade\n",
        "        self.student_id = student_id\n",
        "        self.attendance = {}\n",
        "\n",
        "    def update_attendance(self, date, status):\n",
        "        self.attendance[date] = status\n",
        "        print(f\"Attendance updated for {date}: {status}\")\n",
        "\n",
        "    def get_attendance(self):\n",
        "        return self.attendance\n",
        "\n",
        "    def get_average_attendance(self):\n",
        "        total_days = len(self.attendance)\n",
        "        present_days = sum(1 for status in self.attendance.values() if status.lower() == 'present')\n",
        "        return (present_days / total_days) * 100 if total_days > 0 else 0\n",
        "\n",
        "# Example\n",
        "student1 = Student(\"Alice\", 14, \"8th Grade\", \"S001\")\n",
        "student1.update_attendance(\"2025-01-01\", \"Present\")\n",
        "student1.update_attendance(\"2025-01-02\", \"Absent\")\n",
        "print(\"Attendance Record:\", student1.get_attendance())\n",
        "print(\"Average Attendance:\", student1.get_average_attendance(), \"%\")\n"
      ]
    },
    {
      "cell_type": "code",
      "source": [],
      "metadata": {
        "id": "hR7uan-kMqEm"
      },
      "id": "hR7uan-kMqEm",
      "execution_count": null,
      "outputs": []
    }
  ],
  "metadata": {
    "colab": {
      "provenance": []
    },
    "language_info": {
      "name": "python"
    },
    "kernelspec": {
      "name": "python3",
      "display_name": "Python 3"
    }
  },
  "nbformat": 4,
  "nbformat_minor": 5
}